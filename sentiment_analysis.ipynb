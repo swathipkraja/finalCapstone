{
 "cells": [
  {
   "cell_type": "code",
   "execution_count": 1,
   "id": "24accede-0f32-4804-9c10-2221bdf75b4b",
   "metadata": {},
   "outputs": [],
   "source": [
    "import spacy\n",
    "import pandas as pd\n",
    "import time\n",
    "from spacytextblob.spacytextblob import SpacyTextBlob"
   ]
  },
  {
   "cell_type": "markdown",
   "id": "a6361108-26ad-4d6c-a7f2-a1f184b1d58f",
   "metadata": {},
   "source": [
    "**Implement a sentiment analysis model using spaCy**\n"
   ]
  },
  {
   "cell_type": "code",
   "execution_count": 2,
   "id": "addae4f9-38d0-4f53-89e4-2668622c9aa6",
   "metadata": {},
   "outputs": [
    {
     "data": {
      "text/plain": [
       "<spacytextblob.spacytextblob.SpacyTextBlob at 0x1794d16a250>"
      ]
     },
     "execution_count": 2,
     "metadata": {},
     "output_type": "execute_result"
    }
   ],
   "source": [
    "##Loading the SM model from Spacy\n",
    "nlp = spacy.load('en_core_web_sm')\n",
    "nlp.add_pipe('spacytextblob')"
   ]
  },
  {
   "cell_type": "code",
   "execution_count": 3,
   "id": "0bd71233-a408-4582-aafd-07d1fc163349",
   "metadata": {},
   "outputs": [],
   "source": [
    "##Loading all the review data from an example file (downloaded from Kaggle amazon reviews)\n",
    "df_review_text_raw = pd.read_csv(r'C:\\Swathi\\SP23110010980\\Data Science (Fundamentals)\\T21 - Capstone Project - NLP Applications\\ReviewFiles\\1429_1.csv',low_memory=False, usecols=['reviews.text'])"
   ]
  },
  {
   "cell_type": "code",
   "execution_count": 4,
   "id": "0c176d5a-d038-4990-9d5f-c0e4cac93cd5",
   "metadata": {},
   "outputs": [
    {
     "data": {
      "text/html": [
       "<div>\n",
       "<style scoped>\n",
       "    .dataframe tbody tr th:only-of-type {\n",
       "        vertical-align: middle;\n",
       "    }\n",
       "\n",
       "    .dataframe tbody tr th {\n",
       "        vertical-align: top;\n",
       "    }\n",
       "\n",
       "    .dataframe thead th {\n",
       "        text-align: right;\n",
       "    }\n",
       "</style>\n",
       "<table border=\"1\" class=\"dataframe\">\n",
       "  <thead>\n",
       "    <tr style=\"text-align: right;\">\n",
       "      <th></th>\n",
       "      <th>reviews.text</th>\n",
       "    </tr>\n",
       "  </thead>\n",
       "  <tbody>\n",
       "    <tr>\n",
       "      <th>count</th>\n",
       "      <td>34659</td>\n",
       "    </tr>\n",
       "    <tr>\n",
       "      <th>unique</th>\n",
       "      <td>34659</td>\n",
       "    </tr>\n",
       "    <tr>\n",
       "      <th>top</th>\n",
       "      <td>This product so far has not disappointed. My c...</td>\n",
       "    </tr>\n",
       "    <tr>\n",
       "      <th>freq</th>\n",
       "      <td>1</td>\n",
       "    </tr>\n",
       "  </tbody>\n",
       "</table>\n",
       "</div>"
      ],
      "text/plain": [
       "                                             reviews.text\n",
       "count                                               34659\n",
       "unique                                              34659\n",
       "top     This product so far has not disappointed. My c...\n",
       "freq                                                    1"
      ]
     },
     "execution_count": 4,
     "metadata": {},
     "output_type": "execute_result"
    }
   ],
   "source": [
    "df_review_text_raw.describe()"
   ]
  },
  {
   "cell_type": "code",
   "execution_count": null,
   "id": "c1551aa6-2c41-43ee-b7e3-182ff53a9da1",
   "metadata": {},
   "outputs": [],
   "source": []
  },
  {
   "cell_type": "markdown",
   "id": "cd551eb0-767f-4c2e-9ffa-fc3e56685d6e",
   "metadata": {},
   "source": [
    "**Display Options to see all text within a dataframe**"
   ]
  },
  {
   "cell_type": "code",
   "execution_count": 5,
   "id": "7db3806a-6a75-47aa-b8b5-3b9b93dca48c",
   "metadata": {},
   "outputs": [],
   "source": [
    "##Using polartity score for sentiment\n",
    "def sentiment_analysis(review):\n",
    "    doc = nlp(review)\n",
    "    polarity_score = doc._.blob.polarity\n",
    "    #sentiment = doc._.blob.sentiment\n",
    "    return polarity_score"
   ]
  },
  {
   "cell_type": "code",
   "execution_count": 6,
   "id": "ac447471-3a3e-46f2-b25a-ab1654e2c53d",
   "metadata": {},
   "outputs": [],
   "source": [
    "def similarity_analysis(review1, review2):\n",
    "    doc1 = nlp(review1)\n",
    "    doc2 = nlp(review2)\n",
    "    return doc1.similarity(doc2)"
   ]
  },
  {
   "cell_type": "code",
   "execution_count": 7,
   "id": "b87d0651-74ab-4c64-9605-8567d6d624bf",
   "metadata": {},
   "outputs": [],
   "source": [
    "##By default dataframe display is truncated in column size and row size. This is to display it fully\n",
    "\n",
    "pd.set_option('display.max_rows', None)  # Show all rows\n",
    "pd.set_option('display.max_columns', None)  # Show all columns\n",
    "pd.set_option('display.width', 2000)  # Adjust width for better readability\n",
    "pd.set_option('display.colheader_justify', 'center')  # Center-align column headers\n",
    "pd.set_option('display.precision', 3)  # Set decimal precision\n",
    "pd.set_option('display.max_colwidth', None)"
   ]
  },
  {
   "cell_type": "code",
   "execution_count": 8,
   "id": "4393ea35-0e18-47ef-95a2-89d9c2809c35",
   "metadata": {},
   "outputs": [],
   "source": [
    "##dropping null rows, if any\n",
    "df_review = df_review_text_raw.dropna()"
   ]
  },
  {
   "cell_type": "code",
   "execution_count": 9,
   "id": "9415f613-08dd-4144-b25e-cfe26bec5e15",
   "metadata": {},
   "outputs": [],
   "source": [
    "#df_review.loc[:,'senti_without_processing'] = df_review.apply(lambda x: sentiment_analysis(x['reviews.text']), axis=1)"
   ]
  },
  {
   "cell_type": "markdown",
   "id": "de220c07-9574-4c3a-806b-e7b01f4b2a69",
   "metadata": {},
   "source": [
    "**Convert to Lower Case**"
   ]
  },
  {
   "cell_type": "code",
   "execution_count": 10,
   "id": "0e2ff2f3-91fc-4ae7-9979-c37a58ae3764",
   "metadata": {},
   "outputs": [
    {
     "name": "stderr",
     "output_type": "stream",
     "text": [
      "C:\\Users\\jegan\\AppData\\Local\\Temp\\ipykernel_17728\\1608165319.py:2: SettingWithCopyWarning: \n",
      "A value is trying to be set on a copy of a slice from a DataFrame.\n",
      "Try using .loc[row_indexer,col_indexer] = value instead\n",
      "\n",
      "See the caveats in the documentation: https://pandas.pydata.org/pandas-docs/stable/user_guide/indexing.html#returning-a-view-versus-a-copy\n",
      "  df_review.loc[:,'review_post_processing'] = df_review['reviews.text'].str.lower()\n"
     ]
    }
   ],
   "source": [
    "##Converting to lower case\n",
    "df_review.loc[:,'review_post_processing'] = df_review['reviews.text'].str.lower()"
   ]
  },
  {
   "cell_type": "markdown",
   "id": "6a6a4b1a-7b54-4275-a758-50b1f1d642a3",
   "metadata": {},
   "source": [
    "**Remove Punctuation**"
   ]
  },
  {
   "cell_type": "code",
   "execution_count": 11,
   "id": "1c5dd4ee-85a9-4cc4-8629-07de2f83195a",
   "metadata": {},
   "outputs": [],
   "source": [
    "##removing punctuation\n",
    "df_review.loc[:,'review_post_processing'] = df_review['review_post_processing'].str.replace('[^\\w\\s]','')"
   ]
  },
  {
   "cell_type": "markdown",
   "id": "40a1abea-bb59-4dfa-9833-2eebfc97aadc",
   "metadata": {},
   "source": [
    "**Remove stop words**"
   ]
  },
  {
   "cell_type": "code",
   "execution_count": 12,
   "id": "071b140b-170c-455b-844b-fb63569388a2",
   "metadata": {},
   "outputs": [],
   "source": [
    "## List of stop words from Spacy\n",
    "stop = spacy.lang.en.stop_words.STOP_WORDS"
   ]
  },
  {
   "cell_type": "code",
   "execution_count": 13,
   "id": "d82d2878-a806-457c-9e3b-fa15e4d3eb69",
   "metadata": {},
   "outputs": [],
   "source": [
    "## NOT is an important word. This is part of the STOP words list to my surprise. So removing this word from the list. IF I Do not remove this, there are reviewes classified wrongly. \n",
    "stop.discard(\"not\")"
   ]
  },
  {
   "cell_type": "code",
   "execution_count": 14,
   "id": "09892f46-a67b-4c65-9551-177b2cc44522",
   "metadata": {},
   "outputs": [],
   "source": [
    "#stop = spacy.lang.en.stop_words.STOP_WORDS\n",
    "# Removing all Stop words (except NOT)\n",
    "df_review.loc[:,'review_post_processing'] = df_review['review_post_processing'].apply(lambda x: \" \".join(x for x in x.split() if x not in stop))\n"
   ]
  },
  {
   "cell_type": "code",
   "execution_count": 15,
   "id": "1b59df70-9b87-43ab-83f8-a260b5473e29",
   "metadata": {},
   "outputs": [],
   "source": [
    "##Updating the sentiment for all the rows takes time, so only taking a subset of the rows for testing as below\n",
    "df_review_partial = df_review.head(2000)"
   ]
  },
  {
   "cell_type": "code",
   "execution_count": 16,
   "id": "63d3e100-b2b0-46fc-86c4-3a82353b221e",
   "metadata": {},
   "outputs": [
    {
     "name": "stderr",
     "output_type": "stream",
     "text": [
      "C:\\Users\\jegan\\AppData\\Local\\Temp\\ipykernel_17728\\2568789711.py:1: SettingWithCopyWarning: \n",
      "A value is trying to be set on a copy of a slice from a DataFrame.\n",
      "Try using .loc[row_indexer,col_indexer] = value instead\n",
      "\n",
      "See the caveats in the documentation: https://pandas.pydata.org/pandas-docs/stable/user_guide/indexing.html#returning-a-view-versus-a-copy\n",
      "  df_review_partial.loc[:,'polarity'] = df_review_partial.apply(lambda x: sentiment_analysis(x['review_post_processing']), axis=1)\n"
     ]
    }
   ],
   "source": [
    "df_review_partial.loc[:,'polarity'] = df_review_partial.apply(lambda x: sentiment_analysis(x['review_post_processing']), axis=1)"
   ]
  },
  {
   "cell_type": "code",
   "execution_count": 17,
   "id": "53159570-259a-4c2f-91f6-24f0f27dd497",
   "metadata": {},
   "outputs": [
    {
     "name": "stderr",
     "output_type": "stream",
     "text": [
      "C:\\Users\\jegan\\AppData\\Local\\Temp\\ipykernel_17728\\736320530.py:2: SettingWithCopyWarning: \n",
      "A value is trying to be set on a copy of a slice from a DataFrame.\n",
      "Try using .loc[row_indexer,col_indexer] = value instead\n",
      "\n",
      "See the caveats in the documentation: https://pandas.pydata.org/pandas-docs/stable/user_guide/indexing.html#returning-a-view-versus-a-copy\n",
      "  df_review_partial.loc[mask,'sentiment_label'] = 'Negative'\n"
     ]
    }
   ],
   "source": [
    "mask = df_review_partial['polarity'] < 0\n",
    "df_review_partial.loc[mask,'sentiment_label'] = 'Negative'\n",
    "\n",
    "mask = df_review_partial['polarity'] == 0\n",
    "df_review_partial.loc[mask,'sentiment_label'] = 'Neutral'\n",
    "\n",
    "mask = df_review_partial['polarity'] > 0\n",
    "df_review_partial.loc[mask,'sentiment_label'] = 'Positive'\n"
   ]
  },
  {
   "cell_type": "markdown",
   "id": "ddf77c6d-5fa9-4067-9376-a61d7fbe37ed",
   "metadata": {},
   "source": [
    "**Similarity of different reviews**"
   ]
  },
  {
   "cell_type": "code",
   "execution_count": 18,
   "id": "972da0ee-a448-4900-931c-a375d000ccbb",
   "metadata": {},
   "outputs": [
    {
     "data": {
      "text/plain": [
       "'product far not disappointed. children love use like ability monitor control content ease.'"
      ]
     },
     "execution_count": 18,
     "metadata": {},
     "output_type": "execute_result"
    }
   ],
   "source": [
    "df_review_partial['review_post_processing'][0]"
   ]
  },
  {
   "cell_type": "code",
   "execution_count": 19,
   "id": "4f83cd19-5208-45af-b3c1-fb272b29cded",
   "metadata": {},
   "outputs": [
    {
     "data": {
      "text/plain": [
       "'great beginner experienced person. bought gift loves'"
      ]
     },
     "execution_count": 19,
     "metadata": {},
     "output_type": "execute_result"
    }
   ],
   "source": [
    "df_review_partial['review_post_processing'][1]"
   ]
  },
  {
   "cell_type": "code",
   "execution_count": 20,
   "id": "838a59b2-04f4-45e9-91a6-54df94737416",
   "metadata": {},
   "outputs": [
    {
     "name": "stderr",
     "output_type": "stream",
     "text": [
      "C:\\Users\\jegan\\AppData\\Local\\Temp\\ipykernel_17728\\816975601.py:4: UserWarning: [W007] The model you're using has no word vectors loaded, so the result of the Doc.similarity method will be based on the tagger, parser and NER, which may not give useful similarity judgements. This may happen if you're using one of the small models, e.g. `en_core_web_sm`, which don't ship with word vectors and only use context-sensitive tensors. You can always add your own word vectors, or use one of the larger models instead if available.\n",
      "  return doc1.similarity(doc2)\n"
     ]
    },
    {
     "data": {
      "text/plain": [
       "0.5647624415313598"
      ]
     },
     "execution_count": 20,
     "metadata": {},
     "output_type": "execute_result"
    }
   ],
   "source": [
    "similarity_analysis(df_review_partial['review_post_processing'][0],df_review_partial['review_post_processing'][1] )"
   ]
  },
  {
   "cell_type": "code",
   "execution_count": 21,
   "id": "82c6249d-0900-45c4-877c-573aac7febfc",
   "metadata": {},
   "outputs": [
    {
     "data": {
      "text/html": [
       "<div>\n",
       "<style scoped>\n",
       "    .dataframe tbody tr th:only-of-type {\n",
       "        vertical-align: middle;\n",
       "    }\n",
       "\n",
       "    .dataframe tbody tr th {\n",
       "        vertical-align: top;\n",
       "    }\n",
       "\n",
       "    .dataframe thead th {\n",
       "        text-align: right;\n",
       "    }\n",
       "</style>\n",
       "<table border=\"1\" class=\"dataframe\">\n",
       "  <thead>\n",
       "    <tr style=\"text-align: center;\">\n",
       "      <th></th>\n",
       "      <th>reviews.text</th>\n",
       "      <th>review_post_processing</th>\n",
       "      <th>polarity</th>\n",
       "      <th>sentiment_label</th>\n",
       "    </tr>\n",
       "  </thead>\n",
       "  <tbody>\n",
       "    <tr>\n",
       "      <th>0</th>\n",
       "      <td>This product so far has not disappointed. My children love to use it and I like the ability to monitor control what content they see with ease.</td>\n",
       "      <td>product far not disappointed. children love use like ability monitor control content ease.</td>\n",
       "      <td>0.325</td>\n",
       "      <td>Positive</td>\n",
       "    </tr>\n",
       "    <tr>\n",
       "      <th>1</th>\n",
       "      <td>great for beginner or experienced person. Bought as a gift and she loves it</td>\n",
       "      <td>great beginner experienced person. bought gift loves</td>\n",
       "      <td>0.800</td>\n",
       "      <td>Positive</td>\n",
       "    </tr>\n",
       "    <tr>\n",
       "      <th>2</th>\n",
       "      <td>Inexpensive tablet for him to use and learn on, step up from the NABI. He was thrilled with it, learn how to Skype on it already...</td>\n",
       "      <td>inexpensive tablet use learn on, step nabi. thrilled it, learn skype already...</td>\n",
       "      <td>0.600</td>\n",
       "      <td>Positive</td>\n",
       "    </tr>\n",
       "    <tr>\n",
       "      <th>3</th>\n",
       "      <td>I've had my Fire HD 8 two weeks now and I love it. This tablet is a great value.We are Prime Members and that is where this tablet SHINES. I love being able to easily access all of the Prime content as well as movies you can download and watch laterThis has a 1280/800 screen which has some really nice look to it its nice and crisp and very bright infact it is brighter then the ipad pro costing $900 base model. The build on this fire is INSANELY AWESOME running at only 7.7mm thick and the smooth glossy feel on the back it is really amazing to hold its like the futuristic tab in ur hands.</td>\n",
       "      <td>i've fire hd 8 weeks love it. tablet great value.we prime members tablet shines. love able easily access prime content movies download watch laterthis 1280/800 screen nice look nice crisp bright infact brighter ipad pro costing $900 base model. build fire insanely awesome running 7.7mm thick smooth glossy feel amazing hold like futuristic tab ur hands.</td>\n",
       "      <td>0.413</td>\n",
       "      <td>Positive</td>\n",
       "    </tr>\n",
       "    <tr>\n",
       "      <th>4</th>\n",
       "      <td>I bought this for my grand daughter when she comes over to visit. I set it up with her as the user, entered her age and name and now Amazon makes sure that she only accesses sites and content that are appropriate to her age. Simple to do and she loves the capabilities. I also bought and installed a 64gig SD card which gives this little tablet plenty of storage. For the price I think this tablet is best one out there. You can spend hundreds of dollars more for additional speed and capacity but when it comes to the basics this tablets does everything that most people will ever need at a fraction of the cost.</td>\n",
       "      <td>bought grand daughter comes visit. set user, entered age amazon makes sure accesses sites content appropriate age. simple loves capabilities. bought installed 64gig sd card gives little tablet plenty storage. price think tablet best there. spend hundreds dollars additional speed capacity comes basics tablets people need fraction cost.</td>\n",
       "      <td>0.385</td>\n",
       "      <td>Positive</td>\n",
       "    </tr>\n",
       "    <tr>\n",
       "      <th>5</th>\n",
       "      <td>This amazon fire 8 inch tablet is the perfect size. I purchased it for my husband so that he has a bigger screen than just his phone. He had gotten me one a few years ago so I knew it would be a good purchase.</td>\n",
       "      <td>amazon fire 8 inch tablet perfect size. purchased husband bigger screen phone. gotten years ago knew good purchase.</td>\n",
       "      <td>0.567</td>\n",
       "      <td>Positive</td>\n",
       "    </tr>\n",
       "    <tr>\n",
       "      <th>6</th>\n",
       "      <td>Great for e-reading on the go, nice and light weight, and for the price point given, definitely worth the purchase.</td>\n",
       "      <td>great e-reading go, nice light weight, price point given, definitely worth purchase.</td>\n",
       "      <td>0.525</td>\n",
       "      <td>Positive</td>\n",
       "    </tr>\n",
       "    <tr>\n",
       "      <th>7</th>\n",
       "      <td>I gave this as a Christmas gift to my inlaws, husband and uncle. They loved it and how easy they are to use with fantastic features!</td>\n",
       "      <td>gave christmas gift inlaws, husband uncle. loved easy use fantastic features!</td>\n",
       "      <td>0.544</td>\n",
       "      <td>Positive</td>\n",
       "    </tr>\n",
       "    <tr>\n",
       "      <th>8</th>\n",
       "      <td>Great as a device to read books. I like that it links with my borrowed library e-books. Switched from another popular tablet brand and I am happy with the choice I made. It took some time to get books from my previous non-Kindle reader, but finally figured out a way!</td>\n",
       "      <td>great device read books. like links borrowed library e-books. switched popular tablet brand happy choice made. took time books previous non-kindle reader, finally figured way!</td>\n",
       "      <td>0.407</td>\n",
       "      <td>Positive</td>\n",
       "    </tr>\n",
       "    <tr>\n",
       "      <th>9</th>\n",
       "      <td>I love ordering books and reading them with the reader.</td>\n",
       "      <td>love ordering books reading reader.</td>\n",
       "      <td>0.500</td>\n",
       "      <td>Positive</td>\n",
       "    </tr>\n",
       "    <tr>\n",
       "      <th>10</th>\n",
       "      <td>Not easy for elderly users cease of ads that pop up.</td>\n",
       "      <td>not easy elderly users cease ads pop up.</td>\n",
       "      <td>-0.217</td>\n",
       "      <td>Negative</td>\n",
       "    </tr>\n",
       "    <tr>\n",
       "      <th>11</th>\n",
       "      <td>Excellent product. Easy to use, large screen makes watching movies and reading easier.</td>\n",
       "      <td>excellent product. easy use, large screen makes watching movies reading easier.</td>\n",
       "      <td>0.549</td>\n",
       "      <td>Positive</td>\n",
       "    </tr>\n",
       "    <tr>\n",
       "      <th>12</th>\n",
       "      <td>Wanted my father to have his first tablet and this is a very good value. He can watch movies and play a few games. Easy enough for him to use.</td>\n",
       "      <td>wanted father tablet good value. watch movies play games. easy use.</td>\n",
       "      <td>0.567</td>\n",
       "      <td>Positive</td>\n",
       "    </tr>\n",
       "    <tr>\n",
       "      <th>13</th>\n",
       "      <td>Simply does everything I need. Thank youAnd silk works wonders</td>\n",
       "      <td>simply need. thank youand silk works wonders</td>\n",
       "      <td>0.000</td>\n",
       "      <td>Neutral</td>\n",
       "    </tr>\n",
       "    <tr>\n",
       "      <th>14</th>\n",
       "      <td>Got it as a present and love the size of the screen</td>\n",
       "      <td>got present love size screen</td>\n",
       "      <td>0.250</td>\n",
       "      <td>Positive</td>\n",
       "    </tr>\n",
       "    <tr>\n",
       "      <th>15</th>\n",
       "      <td>The kindle is easiest to use, graphics and screen crisp, clear, brilliant colors.</td>\n",
       "      <td>kindle easiest use, graphics screen crisp, clear, brilliant colors.</td>\n",
       "      <td>0.417</td>\n",
       "      <td>Positive</td>\n",
       "    </tr>\n",
       "    <tr>\n",
       "      <th>16</th>\n",
       "      <td>nice reader. almost perfect for what i want/need. good bargain</td>\n",
       "      <td>nice reader. perfect want/need. good bargain</td>\n",
       "      <td>0.767</td>\n",
       "      <td>Positive</td>\n",
       "    </tr>\n",
       "    <tr>\n",
       "      <th>17</th>\n",
       "      <td>I really like this tablet. I would have given 5 stars but sometimes you have to push start several times after you unlock the screen and it is a little annoying.</td>\n",
       "      <td>like tablet. given 5 stars push start times unlock screen little annoying.</td>\n",
       "      <td>-0.494</td>\n",
       "      <td>Negative</td>\n",
       "    </tr>\n",
       "    <tr>\n",
       "      <th>18</th>\n",
       "      <td>Great video quality lots of fun apps fun for the whole family</td>\n",
       "      <td>great video quality lots fun apps fun family</td>\n",
       "      <td>0.467</td>\n",
       "      <td>Positive</td>\n",
       "    </tr>\n",
       "    <tr>\n",
       "      <th>19</th>\n",
       "      <td>Love love love my kindle fire 8.....this is what my 9 yr old granddaughter said when I bought this for her at Christmas..we have purchased kindled in the past but this one has been the best....love the fact that you can now use a memory card in it...that helps so much when you use it for books...games...music and viedos...thanks</td>\n",
       "      <td>love love love kindle fire 8.....this 9 yr old granddaughter said bought christmas..we purchased kindled past best....love fact use memory card it...that helps use books...games...music viedos...thanks</td>\n",
       "      <td>0.270</td>\n",
       "      <td>Positive</td>\n",
       "    </tr>\n",
       "  </tbody>\n",
       "</table>\n",
       "</div>"
      ],
      "text/plain": [
       "                                                                                                                                                                                                                                                                                                                reviews.text                                                                                                                                                                                                                                                                                                                                                                                                                                                                                     review_post_processing                                                                                                                                                                        polarity sentiment_label\n",
       "0                                                                                                                                                                                                                                                                                                                                                                                                                                                                                         This product so far has not disappointed. My children love to use it and I like the ability to monitor control what content they see with ease.                                                                                                                                                                                                                                                                          product far not disappointed. children love use like ability monitor control content ease.    0.325      Positive   \n",
       "1                                                                                                                                                                                                                                                                                                                                                                                                                                                                                                                                                             great for beginner or experienced person. Bought as a gift and she loves it                                                                                                                                                                                                                                                                                                                great beginner experienced person. bought gift loves    0.800      Positive   \n",
       "2                                                                                                                                                                                                                                                                                                                                                                                                                                                                                                     Inexpensive tablet for him to use and learn on, step up from the NABI. He was thrilled with it, learn how to Skype on it already...                                                                                                                                                                                                                                                                                     inexpensive tablet use learn on, step nabi. thrilled it, learn skype already...    0.600      Positive   \n",
       "3                       I've had my Fire HD 8 two weeks now and I love it. This tablet is a great value.We are Prime Members and that is where this tablet SHINES. I love being able to easily access all of the Prime content as well as movies you can download and watch laterThis has a 1280/800 screen which has some really nice look to it its nice and crisp and very bright infact it is brighter then the ipad pro costing $900 base model. The build on this fire is INSANELY AWESOME running at only 7.7mm thick and the smooth glossy feel on the back it is really amazing to hold its like the futuristic tab in ur hands.  i've fire hd 8 weeks love it. tablet great value.we prime members tablet shines. love able easily access prime content movies download watch laterthis 1280/800 screen nice look nice crisp bright infact brighter ipad pro costing $900 base model. build fire insanely awesome running 7.7mm thick smooth glossy feel amazing hold like futuristic tab ur hands.    0.413      Positive   \n",
       "4   I bought this for my grand daughter when she comes over to visit. I set it up with her as the user, entered her age and name and now Amazon makes sure that she only accesses sites and content that are appropriate to her age. Simple to do and she loves the capabilities. I also bought and installed a 64gig SD card which gives this little tablet plenty of storage. For the price I think this tablet is best one out there. You can spend hundreds of dollars more for additional speed and capacity but when it comes to the basics this tablets does everything that most people will ever need at a fraction of the cost.                    bought grand daughter comes visit. set user, entered age amazon makes sure accesses sites content appropriate age. simple loves capabilities. bought installed 64gig sd card gives little tablet plenty storage. price think tablet best there. spend hundreds dollars additional speed capacity comes basics tablets people need fraction cost.    0.385      Positive   \n",
       "5                                                                                                                                                                                                                                                                                                                                                                                                                       This amazon fire 8 inch tablet is the perfect size. I purchased it for my husband so that he has a bigger screen than just his phone. He had gotten me one a few years ago so I knew it would be a good purchase.                                                                                                                                                                                                                                                 amazon fire 8 inch tablet perfect size. purchased husband bigger screen phone. gotten years ago knew good purchase.    0.567      Positive   \n",
       "6                                                                                                                                                                                                                                                                                                                                                                                                                                                                                                                     Great for e-reading on the go, nice and light weight, and for the price point given, definitely worth the purchase.                                                                                                                                                                                                                                                                                great e-reading go, nice light weight, price point given, definitely worth purchase.    0.525      Positive   \n",
       "7                                                                                                                                                                                                                                                                                                                                                                                                                                                                                                    I gave this as a Christmas gift to my inlaws, husband and uncle. They loved it and how easy they are to use with fantastic features!                                                                                                                                                                                                                                                                                       gave christmas gift inlaws, husband uncle. loved easy use fantastic features!    0.544      Positive   \n",
       "8                                                                                                                                                                                                                                                                                                                                                             Great as a device to read books. I like that it links with my borrowed library e-books. Switched from another popular tablet brand and I am happy with the choice I made. It took some time to get books from my previous non-Kindle reader, but finally figured out a way!                                                                                                                                                                                     great device read books. like links borrowed library e-books. switched popular tablet brand happy choice made. took time books previous non-kindle reader, finally figured way!    0.407      Positive   \n",
       "9                                                                                                                                                                                                                                                                                                                                                                                                                                                                                                                                                                                 I love ordering books and reading them with the reader.                                                                                                                                                                                                                                                                                                                                 love ordering books reading reader.    0.500      Positive   \n",
       "10                                                                                                                                                                                                                                                                                                                                                                                                                                                                                                                                                                                   Not easy for elderly users cease of ads that pop up.                                                                                                                                                                                                                                                                                                                            not easy elderly users cease ads pop up.   -0.217      Negative   \n",
       "11                                                                                                                                                                                                                                                                                                                                                                                                                                                                                                                                                 Excellent product. Easy to use, large screen makes watching movies and reading easier.                                                                                                                                                                                                                                                                                     excellent product. easy use, large screen makes watching movies reading easier.    0.549      Positive   \n",
       "12                                                                                                                                                                                                                                                                                                                                                                                                                                                                                         Wanted my father to have his first tablet and this is a very good value. He can watch movies and play a few games. Easy enough for him to use.                                                                                                                                                                                                                                                                                                 wanted father tablet good value. watch movies play games. easy use.    0.567      Positive   \n",
       "13                                                                                                                                                                                                                                                                                                                                                                                                                                                                                                                                                                         Simply does everything I need. Thank youAnd silk works wonders                                                                                                                                                                                                                                                                                                                        simply need. thank youand silk works wonders    0.000       Neutral   \n",
       "14                                                                                                                                                                                                                                                                                                                                                                                                                                                                                                                                                                                    Got it as a present and love the size of the screen                                                                                                                                                                                                                                                                                                                                        got present love size screen    0.250      Positive   \n",
       "15                                                                                                                                                                                                                                                                                                                                                                                                                                                                                                                                                      The kindle is easiest to use, graphics and screen crisp, clear, brilliant colors.                                                                                                                                                                                                                                                                                                 kindle easiest use, graphics screen crisp, clear, brilliant colors.    0.417      Positive   \n",
       "16                                                                                                                                                                                                                                                                                                                                                                                                                                                                                                                                                                         nice reader. almost perfect for what i want/need. good bargain                                                                                                                                                                                                                                                                                                                        nice reader. perfect want/need. good bargain    0.767      Positive   \n",
       "17                                                                                                                                                                                                                                                                                                                                                                                                                                                                      I really like this tablet. I would have given 5 stars but sometimes you have to push start several times after you unlock the screen and it is a little annoying.                                                                                                                                                                                                                                                                                          like tablet. given 5 stars push start times unlock screen little annoying.   -0.494      Negative   \n",
       "18                                                                                                                                                                                                                                                                                                                                                                                                                                                                                                                                                                          Great video quality lots of fun apps fun for the whole family                                                                                                                                                                                                                                                                                                                        great video quality lots fun apps fun family    0.467      Positive   \n",
       "19                                                                                                                                                                                                                                                                                             Love love love my kindle fire 8.....this is what my 9 yr old granddaughter said when I bought this for her at Christmas..we have purchased kindled in the past but this one has been the best....love the fact that you can now use a memory card in it...that helps so much when you use it for books...games...music and viedos...thanks                                                                                                                                                           love love love kindle fire 8.....this 9 yr old granddaughter said bought christmas..we purchased kindled past best....love fact use memory card it...that helps use books...games...music viedos...thanks    0.270      Positive   "
      ]
     },
     "execution_count": 21,
     "metadata": {},
     "output_type": "execute_result"
    }
   ],
   "source": [
    "df_review_partial.head(20)"
   ]
  },
  {
   "cell_type": "markdown",
   "id": "271feb22-39ab-4337-a204-2ce8a4ea4cf4",
   "metadata": {},
   "source": [
    "**Testing the output**"
   ]
  },
  {
   "cell_type": "code",
   "execution_count": 22,
   "id": "91ae9dae-6dc9-430d-8ddb-3ae3925f124b",
   "metadata": {},
   "outputs": [
    {
     "data": {
      "text/plain": [
       "reviews.text              Simply does everything I need. Thank youAnd silk works wonders\n",
       "review_post_processing                      simply need. thank youand silk works wonders\n",
       "polarity                                                                             0.0\n",
       "sentiment_label                                                                  Neutral\n",
       "Name: 13, dtype: object"
      ]
     },
     "execution_count": 22,
     "metadata": {},
     "output_type": "execute_result"
    }
   ],
   "source": [
    "#Actually Positive, mentioned as Neutral\n",
    "df_review_partial.iloc[13]"
   ]
  },
  {
   "cell_type": "code",
   "execution_count": 23,
   "id": "ed933d2c-d8dd-4b38-83f9-50117cd58531",
   "metadata": {},
   "outputs": [
    {
     "data": {
      "text/plain": [
       "reviews.text              I really like this tablet. I would have given 5 stars but sometimes you have to push start several times after you unlock the screen and it is a little annoying.\n",
       "review_post_processing                                                                                           like tablet. given 5 stars push start times unlock screen little annoying.\n",
       "polarity                                                                                                                                                                             -0.494\n",
       "sentiment_label                                                                                                                                                                    Negative\n",
       "Name: 17, dtype: object"
      ]
     },
     "execution_count": 23,
     "metadata": {},
     "output_type": "execute_result"
    }
   ],
   "source": [
    "#Actually Positive, mentioned as Negative\n",
    "df_review_partial.iloc[17]"
   ]
  },
  {
   "cell_type": "code",
   "execution_count": 24,
   "id": "20e13fbe-9468-4da2-a1e9-f1bf3f61d6a4",
   "metadata": {},
   "outputs": [
    {
     "data": {
      "text/plain": [
       "reviews.text              This product so far has not disappointed. My children love to use it and I like the ability to monitor control what content they see with ease.\n",
       "review_post_processing                                                         product far not disappointed. children love use like ability monitor control content ease.\n",
       "polarity                                                                                                                                                            0.325\n",
       "sentiment_label                                                                                                                                                  Positive\n",
       "Name: 0, dtype: object"
      ]
     },
     "execution_count": 24,
     "metadata": {},
     "output_type": "execute_result"
    }
   ],
   "source": [
    "#Actually positive; mentioned as positive (after removing the stop word NOT from the Stop word list and ensure NOT is not removed from the review text).\n",
    "df_review_partial.iloc[0]"
   ]
  },
  {
   "cell_type": "markdown",
   "id": "e60495af-2e06-45d6-89ea-d9a74185f5b1",
   "metadata": {},
   "source": [
    "***Examples***"
   ]
  },
  {
   "cell_type": "markdown",
   "id": "c5dbe9f0-292e-4f32-9581-ad843f17004d",
   "metadata": {},
   "source": [
    "**Example 1**\n",
    "\n",
    "**Input** : I really like this tablet. I would have given 5 stars but sometimes you have to push start several times after you unlock the screen and it is a little annoying.\n",
    "\n",
    "**Sentiment**: Negative\n",
    "   \n",
    "**Verdict** : This is unexpected. \n",
    "\n",
    "**Reason for wrong verdict** : This potentially happens due to words like *annoying* moving the polarity towards negative\n"
   ]
  },
  {
   "cell_type": "code",
   "execution_count": 25,
   "id": "846c76b8-e6e1-4e35-b0de-d4985b3c8e4b",
   "metadata": {},
   "outputs": [
    {
     "data": {
      "text/plain": [
       "0.1"
      ]
     },
     "execution_count": 25,
     "metadata": {},
     "output_type": "execute_result"
    }
   ],
   "source": [
    "#without the word annoying  - What is the score?\n",
    "sentiment_analysis(\"I really like this tablet. I would have given 5 stars but sometimes you have to push start several times after you unlock the screen\")\n",
    "\n",
    "# Reason above is correct"
   ]
  },
  {
   "cell_type": "markdown",
   "id": "31955bd4-144d-4fa1-9ed0-704b56db6d2b",
   "metadata": {},
   "source": [
    "**Example 2**\n",
    "\n",
    "**Input** : Simply does everything I need. Thank youAnd silk works wonders\n",
    "\n",
    "**Sentiment** : Negative\n",
    "\n",
    "**Verdict** : This is unexpected.\n",
    "\n",
    "**Reason for wrong verdict** : Due a typo in the review text *you* and *And* are combined together. There are no strong positive words. The word *Wonders* is considered as neutral. So the meaning is not correctly inferred "
   ]
  },
  {
   "cell_type": "code",
   "execution_count": 26,
   "id": "876f95ea-1a21-4d39-b903-3cf2cf201300",
   "metadata": {},
   "outputs": [
    {
     "data": {
      "text/plain": [
       "0.0"
      ]
     },
     "execution_count": 26,
     "metadata": {},
     "output_type": "execute_result"
    }
   ],
   "source": [
    "sentiment_analysis(\"wonders\")"
   ]
  },
  {
   "cell_type": "markdown",
   "id": "cd7d4f42-0755-4257-bde6-7e2122d70b6f",
   "metadata": {},
   "source": [
    "**Example 3**\n",
    "\n",
    "**Input** : This product so far has not disappointed. My children love to use it and I like the ability to monitor control what content they see with ease.\n",
    "\n",
    "**Sentiment** : Positive\n",
    "\n",
    "**Verdict** : This is as expected.\n",
    "\n"
   ]
  },
  {
   "cell_type": "markdown",
   "id": "52320e89-7131-4eac-ad72-979d04ea41f3",
   "metadata": {},
   "source": [
    "**Example 4**\n",
    "\n",
    "**Input** : Great video quality lots of fun apps fun for the whole family\n",
    "\n",
    "**Sentiment** : Positive\n",
    "\n",
    "**Verdict** : This is as expected."
   ]
  },
  {
   "cell_type": "code",
   "execution_count": null,
   "id": "a1e9881f-5cbf-4665-b46c-4db78e455e98",
   "metadata": {},
   "outputs": [],
   "source": []
  }
 ],
 "metadata": {
  "kernelspec": {
   "display_name": "Python 3 (ipykernel)",
   "language": "python",
   "name": "python3"
  },
  "language_info": {
   "codemirror_mode": {
    "name": "ipython",
    "version": 3
   },
   "file_extension": ".py",
   "mimetype": "text/x-python",
   "name": "python",
   "nbconvert_exporter": "python",
   "pygments_lexer": "ipython3",
   "version": "3.11.5"
  }
 },
 "nbformat": 4,
 "nbformat_minor": 5
}
